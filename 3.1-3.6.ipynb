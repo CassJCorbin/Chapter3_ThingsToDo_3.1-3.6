{
 "cells": [
  {
   "cell_type": "code",
   "execution_count": null,
   "id": "373239ce-632b-4417-a91a-cac6f378f408",
   "metadata": {},
   "outputs": [],
   "source": [
    "#Cassandra Corbin\n",
    "#March 25, 2024\n",
    "#Assignment Things To Do 3.1 - 3.6\n",
    "#This is a notebook of the activities in Chapter 3, Things to Do, section."
   ]
  },
  {
   "cell_type": "code",
   "execution_count": 1,
   "id": "b5d1e31a-58bd-4111-a786-a39c30bc5001",
   "metadata": {},
   "outputs": [
    {
     "data": {
      "text/plain": [
       "3600"
      ]
     },
     "execution_count": 1,
     "metadata": {},
     "output_type": "execute_result"
    }
   ],
   "source": [
    "1*60*60 #here I multiplied an hour,60 minutes, by 60 seconds to get how many seconds are in an hour"
   ]
  },
  {
   "cell_type": "code",
   "execution_count": 3,
   "id": "f91d975d-55de-4980-a57f-e30f272be5ae",
   "metadata": {},
   "outputs": [
    {
     "data": {
      "text/plain": [
       "3600"
      ]
     },
     "execution_count": 3,
     "metadata": {},
     "output_type": "execute_result"
    }
   ],
   "source": [
    "seconds_per_hour #here I assigned the variable I got to seconds per hour"
   ]
  },
  {
   "cell_type": "code",
   "execution_count": 5,
   "id": "3a204665-5f54-42d0-8ecb-542b0e42d6f5",
   "metadata": {},
   "outputs": [
    {
     "data": {
      "text/plain": [
       "86400"
      ]
     },
     "execution_count": 5,
     "metadata": {},
     "output_type": "execute_result"
    }
   ],
   "source": [
    "seconds_per_hour=3600     #Multiplied seconds per hour by 24\n",
    "24*seconds_per_hour"
   ]
  },
  {
   "cell_type": "code",
   "execution_count": 6,
   "id": "392e7eea-7270-446c-9787-0fe7a8f1e33f",
   "metadata": {},
   "outputs": [
    {
     "name": "stdout",
     "output_type": "stream",
     "text": [
      "86400\n"
     ]
    }
   ],
   "source": [
    "hours_in_day=24\n",
    "seconds_in_hour=3600\n",
    "seconds_per_day=0\n",
    "seconds_in_day= hours_in_day*seconds_in_hour\n",
    "print(seconds_in_day)\n",
    "#Multiplied how many hours are in a day by how many seconds in an hour to get how many seconds are in a day (24*3600=86400)"
   ]
  },
  {
   "cell_type": "code",
   "execution_count": 8,
   "id": "676509bb",
   "metadata": {},
   "outputs": [
    {
     "data": {
      "text/plain": [
       "24.0"
      ]
     },
     "execution_count": 8,
     "metadata": {},
     "output_type": "execute_result"
    }
   ],
   "source": [
    "hours_in_day=24\n",
    "seconds_in_hour=3600\n",
    "seconds_per_day=86400\n",
    "seconds_per_day/seconds_per_hour\n",
    "#Divided seconds per day by seconds per hour and got 24.0"
   ]
  },
  {
   "cell_type": "code",
   "execution_count": 9,
   "id": "958fca41",
   "metadata": {},
   "outputs": [
    {
     "data": {
      "text/plain": [
       "24"
      ]
     },
     "execution_count": 9,
     "metadata": {},
     "output_type": "execute_result"
    }
   ],
   "source": [
    "hours_in_day=24\n",
    "seconds_in_hour=3600\n",
    "seconds_per_day=86400\n",
    "seconds_per_day//seconds_per_hour\n",
    "#I repeated the same step as above, only this time it was not a float. It was an integer 24."
   ]
  },
  {
   "cell_type": "code",
   "execution_count": null,
   "id": "1dfeb67f-3e22-4afb-aa3b-ca0360cd07c5",
   "metadata": {},
   "outputs": [],
   "source": []
  }
 ],
 "metadata": {
  "kernelspec": {
   "display_name": "Python 3 (ipykernel)",
   "language": "python",
   "name": "python3"
  },
  "language_info": {
   "codemirror_mode": {
    "name": "ipython",
    "version": 3
   },
   "file_extension": ".py",
   "mimetype": "text/x-python",
   "name": "python",
   "nbconvert_exporter": "python",
   "pygments_lexer": "ipython3",
   "version": "3.11.7"
  }
 },
 "nbformat": 4,
 "nbformat_minor": 5
}
